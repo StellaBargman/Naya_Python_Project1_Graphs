{
 "cells": [
  {
   "cell_type": "code",
   "execution_count": 101,
   "metadata": {},
   "outputs": [],
   "source": [
    "#Part I – The Node class \n",
    "#Task 1 – Define the class \n",
    "\n",
    "class node:\n",
    "    #Initiation of the class\n",
    "    def __init__(self,name):\n",
    "        self.name=name\n",
    "        self.neighbors={}\n",
    "\n",
    "    #returns the name of the node\n",
    "    def __str__(self):\n",
    "        print({self.name : self.neighbors})\n",
    "        return self.name\n",
    "        \n",
    "    #returns the number of neighbors \n",
    "    def __len__(self):\n",
    "        neighbors_len = len(self.neighbors)\n",
    "        return neighbors_len \n",
    "    \n",
    "    # returns whether item is a name of a neighbor of self\n",
    "    def __contains__(self,item):\n",
    "        return item in self.neighbors\n",
    "    \n",
    "    # returns the weight of the neighbor named key. If there is no such neighbor, then the method returns None\n",
    "    def __getitem__(self,key):\n",
    "        return self.neighbors.get(key,default=none)\n",
    "    \n",
    "    # returns true if other equals the node\n",
    "    def __eq__(self,other):\n",
    "        if self.name==other:\n",
    "            return True\n",
    "        \n",
    "    #returns true if other not equals the node \n",
    "    def __ne__(self,other):\n",
    "        if self.name!=other:\n",
    "            return True\n",
    "    \n",
    "    # Chceks if name id already a neighbor. equivalent to __contains__(). \n",
    "    def is_neighbor(self,name):\n",
    "        return name in self.neighbors\n",
    "    \n",
    "    # adds name as a neighbor of self. \n",
    "    #If name is not a neighbor of self, then it should be added. \n",
    "    #If name is already a neighbor of self, \n",
    "    #then its weight should be updated to the maximum between the existing weight and weight. \n",
    "    #This method should not allow adding a neighbor with the same name as self. \n",
    "    \n",
    "    def update(self,name,weight):\n",
    "        if name==self.name:\n",
    "            return\n",
    "        if name in self.neighbors:\n",
    "            if self.neighbors.get(name) < weight:\n",
    "                self.neighbors.update(name=weight)\n",
    "        else:\n",
    "            self.neighbors.update(name=weight)\n",
    "   \n",
    "        \n",
    "    \n",
    "    # removes name from being a neighbor of self. \n",
    "    #This method should not fail if name is not a neighbor of self. \n",
    "    def remove_neighbor(self,name):\n",
    "        if name in self.neighbors:\n",
    "            del(self.neighbors[name])\n",
    "            \n",
    "    #returns True if self has no neighbors         \n",
    "    def is_isolated(self):\n",
    "        if self.neighbors =={}:\n",
    "            return True\n",
    "     "
   ]
  },
  {
   "cell_type": "code",
   "execution_count": 115,
   "metadata": {},
   "outputs": [
    {
     "name": "stdout",
     "output_type": "stream",
     "text": [
      "{'1': {'name': 15}}\n"
     ]
    },
    {
     "data": {
      "text/plain": [
       "'1'"
      ]
     },
     "execution_count": 115,
     "metadata": {},
     "output_type": "execute_result"
    }
   ],
   "source": [
    "#Task 2 – Exemplary usage \n",
    "#Question 1 -  Create 10 Node objects according to the figure above, print them (textually, of course). \n",
    "\n",
    "node_1=node(\"1\")\n",
    "node_2=node (\"2\")\n",
    "node_3=node(\"3\")\n",
    "node_4=node(\"4\")\n",
    "node_5=node(\"5\")\n",
    "node_6=node(\"6\")\n",
    "node_7=node(\"7\")\n",
    "node_8=node(\"8\")\n",
    "node_9=node(\"9\")\n",
    "node_10=node(\"10\") \n",
    "\n",
    "#node_1.remove_neighbor(\"7\")\n",
    "node_1.update(\"3\",15)\n",
    "\n",
    "node_1.__str__()\n",
    "\n",
    "\n",
    "#node_1=node(\"1\", {\"6\":5, \"7\":15, \"5\":20, \"4\":20, \"2\":10})\n",
    "#node_2=node (\"2\", {\"4\":10,\"3\":5,})\n",
    "#node_3=node(\"3\", {\"4\":5,\"2\":15})\n",
    "#node_4=node(\"4\",{\"5\":10})\n",
    "#node_5=node(\"5\",{\"6\":5})\n",
    "#node_6=node(\"6\",{})\n",
    "#node_7=node(\"7\",{\"6\":10})\n",
    "#node_8=node(\"8\",{\"7\":5,\"1\":5,\"2\":20})\n",
    "#node_9=node(\"9\",{\"8\":20,\"2\":15,\"10\":10})\n",
    "#node_10=node(\"10\",{\"2\":5,\"3\":15,})\n",
    "    "
   ]
  },
  {
   "cell_type": "code",
   "execution_count": null,
   "metadata": {},
   "outputs": [],
   "source": [
    "#Question 2  - Make some tests to make sure your implementation works. \n"
   ]
  },
  {
   "cell_type": "code",
   "execution_count": 116,
   "metadata": {},
   "outputs": [],
   "source": [
    "#Question 3 How many edges are in the graph, and what is their total weight? \n",
    "\n",
    "#solution - take from all the nodes the dictionary and create one dictionery.\n",
    "#run set on the dictionary to have only distinct edges\n",
    "#count on the set\n",
    "# sum of all the edges in the set "
   ]
  },
  {
   "cell_type": "code",
   "execution_count": 117,
   "metadata": {},
   "outputs": [],
   "source": [
    "#Question 4 Sort the nodes by the number of their neighbors. \n",
    "# count on neighbours\n",
    "# check solution"
   ]
  },
  {
   "cell_type": "code",
   "execution_count": null,
   "metadata": {},
   "outputs": [],
   "source": []
  }
 ],
 "metadata": {
  "kernelspec": {
   "display_name": "Python 3",
   "language": "python",
   "name": "python3"
  },
  "language_info": {
   "codemirror_mode": {
    "name": "ipython",
    "version": 3
   },
   "file_extension": ".py",
   "mimetype": "text/x-python",
   "name": "python",
   "nbconvert_exporter": "python",
   "pygments_lexer": "ipython3",
   "version": "3.6.4"
  }
 },
 "nbformat": 4,
 "nbformat_minor": 2
}
