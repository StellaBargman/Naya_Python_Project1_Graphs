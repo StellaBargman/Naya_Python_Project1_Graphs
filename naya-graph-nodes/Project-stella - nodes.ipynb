{
 "cells": [
  {
   "cell_type": "code",
   "execution_count": 29,
   "metadata": {},
   "outputs": [],
   "source": [
    "#Part I – The Node class \n",
    "#Task 1 – Define the class \n",
    "\n",
    "class Node:\n",
    "    #Initiation of the class\n",
    "    def __init__(self,name):\n",
    "        self.name=name\n",
    "        self.neighbors={}\n",
    "\n",
    "    #prints the node name and the neighbors  + returns the name of the node (?)\n",
    "    def __str__(self):\n",
    "        node_str = \"%s\" % ({self.name : self.neighbors})\n",
    "        return node_str\n",
    "        \n",
    "    #returns the number of neighbors \n",
    "    def __len__(self):\n",
    "        neighbors_len = len(self.neighbors)\n",
    "        return neighbors_len \n",
    "    \n",
    "    # returns whether item is a name of a neighbor of self\n",
    "    def __contains__(self,item):\n",
    "        return item in self.neighbors\n",
    "    \n",
    "    # returns the weight of the neighbor named key. If there is no such neighbor, then the method returns None\n",
    "    def __getitem__(self,key):\n",
    "        return self.neighbors.get(key, None)\n",
    "        \n",
    "    # returns true if other equals the node\n",
    "    def __eq__(self,other):\n",
    "        if self.name==other:\n",
    "            return True\n",
    "        else:\n",
    "            return False\n",
    "        \n",
    "    #returns true if other not equals the node \n",
    "    def __ne__(self,other):\n",
    "        if self.name!=other:\n",
    "            return True\n",
    "        else:\n",
    "            return False\n",
    "    \n",
    "    # Chceks if name id already a neighbor. equivalent to __contains__(). \n",
    "    def is_neighbor(self,name):\n",
    "        return name in self.neighbors\n",
    "    \n",
    "    # adds name as a neighbor of self. \n",
    "    #If name is not a neighbor of self, then it should be added. \n",
    "    #If name is already a neighbor of self, \n",
    "    #then its weight should be updated to the maximum between the existing weight and weight. \n",
    "    #This method should not allow adding a neighbor with the same name as self. \n",
    "    \n",
    "    def update(self,name,weight):\n",
    "        if name==self.name:\n",
    "            print(\"same name as self, update is not aload\")\n",
    "            return\n",
    "        if name not in self.neighbors or self.neighbors.get(name) < weight:\n",
    "            self.neighbors[name]=weight\n",
    "        print({self.name : self.neighbors})\n",
    "        \n",
    "    # removes name from being a neighbor of self. \n",
    "    #This method should not fail if name is not a neighbor of self. \n",
    "    def remove_neighbor(self,name):\n",
    "        if name in self.neighbors:\n",
    "            del(self.neighbors[name])\n",
    "            \n",
    "    #returns True if self has no neighbors         \n",
    "    def is_isolated(self):\n",
    "        if self.neighbors =={}:\n",
    "            return True\n",
    "        else:\n",
    "            return False\n",
    "        \n",
    "     "
   ]
  },
  {
   "cell_type": "code",
   "execution_count": 30,
   "metadata": {},
   "outputs": [
    {
     "name": "stdout",
     "output_type": "stream",
     "text": [
      "{'1': {'7': 15}}\n",
      "{'1': {'7': 15, '6': 5}}\n",
      "{'1': {'7': 15, '6': 5, '5': 20}}\n",
      "{'1': {'7': 15, '6': 5, '5': 20, '4': 20}}\n",
      "{'1': {'7': 15, '6': 5, '5': 20, '4': 20, '2': 10}}\n",
      "{'2': {'4': 10}}\n",
      "{'2': {'4': 10, '3': 5}}\n",
      "{'3': {'4': 5}}\n",
      "{'3': {'4': 5, '2': 15}}\n",
      "{'4': {'5': 10}}\n",
      "{'5': {'6': 5}}\n",
      "{'7': {'6': 10}}\n",
      "{'8': {'7': 5}}\n",
      "{'8': {'7': 5, '1': 5}}\n",
      "{'8': {'7': 5, '1': 5, '2': 20}}\n",
      "{'9': {'8': 20}}\n",
      "{'9': {'8': 20, '2': 15}}\n",
      "{'9': {'8': 20, '2': 15, '10': 10}}\n",
      "{'10': {'2': 5}}\n",
      "{'10': {'2': 5, '3': 15}}\n"
     ]
    }
   ],
   "source": [
    "#Task 2 – Exemplary usage \n",
    "#Question 1 -  Create 10 Node objects according to the figure above, print them (textually, of course). \n",
    "node_1=Node(\"1\")\n",
    "node_2=Node(\"2\")\n",
    "node_3=Node(\"3\")\n",
    "node_4=Node(\"4\")\n",
    "node_5=Node(\"5\")\n",
    "node_6=Node(\"6\")\n",
    "node_7=Node(\"7\")\n",
    "node_8=Node(\"8\")\n",
    "node_9=Node(\"9\")\n",
    "node_10=Node(\"10\") \n",
    "\n",
    "# Nodes update with neighbors and weights\n",
    "\n",
    "node_1.update(\"7\",15)\n",
    "node_1.update(\"6\",5)\n",
    "node_1.update(\"5\",20)\n",
    "node_1.update(\"4\",20)\n",
    "node_1.update(\"2\",10)\n",
    "                            \n",
    "node_2.update(\"4\",10)  \n",
    "node_2.update(\"3\",5)\n",
    "\n",
    "node_3.update(\"4\",5)\n",
    "node_3.update(\"2\",15)\n",
    "\n",
    "node_4.update(\"5\",10)\n",
    "\n",
    "node_5.update(\"6\",5)\n",
    "\n",
    "node_7.update(\"6\",10)\n",
    "\n",
    "node_8.update(\"7\",5)\n",
    "node_8.update(\"1\",5)\n",
    "node_8.update(\"2\",20)\n",
    "\n",
    "node_9.update(\"8\",20)\n",
    "node_9.update(\"2\",15)\n",
    "node_9.update(\"10\",10)\n",
    "\n",
    "node_10.update(\"2\",5)\n",
    "node_10.update(\"3\",15)"
   ]
  },
  {
   "cell_type": "code",
   "execution_count": 31,
   "metadata": {},
   "outputs": [
    {
     "name": "stdout",
     "output_type": "stream",
     "text": [
      "{'1': {'7': 15, '6': 5, '5': 20, '4': 20, '2': 10}}\n"
     ]
    },
    {
     "data": {
      "text/plain": [
       "\"{'1': {'7': 15, '6': 5, '5': 20, '4': 20, '2': 10}}\""
      ]
     },
     "execution_count": 31,
     "metadata": {},
     "output_type": "execute_result"
    }
   ],
   "source": [
    "#Question 2  - Make some tests to make sure your implementation works. \n",
    "\n",
    "print(node_1)\n",
    "str(node_1)\n",
    "node_1.__len__()\n",
    "node_2.__len__()\n",
    "node_6.__len__()\n",
    "\n",
    "node_2.__contains__(\"3\")\n",
    "node_2.__contains__(\"4\")\n",
    "node_2.__contains__(\"5\")\n",
    "node_6.__contains__(\"5\")\n",
    "\n",
    "node_1.__getitem__(\"7\")\n",
    "#print(node_6.__getitem__(\"3\"))\n",
    "type(node_6.__getitem__(\"5\"))\n",
    "\n",
    "node_1.__eq__(\"1\")\n",
    "node_1.__eq__(\"2\")\n",
    "\n",
    "node_1.__ne__(\"1\")\n",
    "\n",
    "node_1.is_neighbor(\"7\")\n",
    "node_1.is_neighbor(\"8\")\n",
    "\n",
    "#node_1.remove_neighbor(\"2\")\n",
    "#node_1.update(\"2\",10)\n",
    "node_1.__str__()\n",
    "\n",
    "#node_1.is_isolated()\n"
   ]
  },
  {
   "cell_type": "code",
   "execution_count": 32,
   "metadata": {},
   "outputs": [
    {
     "name": "stdout",
     "output_type": "stream",
     "text": [
      "[['1', '7', 15], ['1', '6', 5], ['1', '5', 20], ['1', '4', 20], ['1', '2', 10], ['2', '4', 10], ['2', '3', 5], ['3', '4', 5], ['3', '2', 15], ['4', '5', 10], ['5', '6', 5], ['7', '6', 10], ['8', '7', 5], ['8', '1', 5], ['8', '2', 20], ['9', '8', 20], ['9', '2', 15], ['9', '10', 10], ['10', '2', 5], ['10', '3', 15]]\n",
      "There are 20 edges\n",
      "Their total weight is 225\n"
     ]
    }
   ],
   "source": [
    "#Question 3 - How many edges are in the graph, and what is their total weight? \n",
    "\n",
    "#preperations\n",
    "all_edges_list = []\n",
    "nodes_list = [node_1, node_2, node_3, node_4, node_5, node_6, node_7, node_8, node_9, node_10]   \n",
    "\n",
    "# Double loop running on all nodes and taking all the edges into a the all_edges_list\n",
    "for node in nodes_list:\n",
    "    for item in node.neighbors:\n",
    "        all_edges_list.append([node.name, item, node.neighbors.get(item, None) ])\n",
    "print(all_edges_list)\n",
    "print(\"There are\", str(len(all_edges_list)), \"edges\")\n",
    "\n",
    "# loop running on the edges list that we created and summing the weights\n",
    "edges_weight_sum = 0\n",
    "for combination in all_edges_list:\n",
    "    edges_weight_sum += combination[2]\n",
    "print(\"Their total weight is\", edges_weight_sum)\n"
   ]
  },
  {
   "cell_type": "code",
   "execution_count": 33,
   "metadata": {},
   "outputs": [
    {
     "name": "stdout",
     "output_type": "stream",
     "text": [
      "{'1': 5, '2': 2, '3': 2, '4': 1, '5': 1, '6': 0, '7': 1, '8': 3, '9': 3, '10': 2}\n"
     ]
    },
    {
     "data": {
      "text/plain": [
       "[('6', 0),\n",
       " ('4', 1),\n",
       " ('5', 1),\n",
       " ('7', 1),\n",
       " ('2', 2),\n",
       " ('3', 2),\n",
       " ('10', 2),\n",
       " ('8', 3),\n",
       " ('9', 3),\n",
       " ('1', 5)]"
      ]
     },
     "execution_count": 33,
     "metadata": {},
     "output_type": "execute_result"
    }
   ],
   "source": [
    "#Question 4 - Sort the nodes by the number of their neighbors. \n",
    "\n",
    "dict_number_of_neighbors = {}\n",
    "\n",
    "for node in nodes_list:\n",
    "    dict_number_of_neighbors.update({node.name: node.__len__()})\n",
    "print(dict_number_of_neighbors)\n",
    "sorted(dict_number_of_neighbors.items(), key=lambda x: x[1])\n",
    "\n",
    "\n"
   ]
  },
  {
   "cell_type": "code",
   "execution_count": 163,
   "metadata": {},
   "outputs": [],
   "source": [
    "class Graph:\n",
    "\n",
    "    # __init__(self, name, nodes=[ ]) \n",
    "    # nodes is an iterable of Node instances. \n",
    "    # Note: nodes is an iterable (preferably list) of Node instances, while the attribute nodes is a dictionary. This is not a mistake.       \n",
    "    def __init__(self, name,nodes=[]):\n",
    "        self.name=name\n",
    "        self.nodes = {}\n",
    "        for node in nodes:\n",
    "            self.nodes.update({node.name:node})\n",
    "\n",
    "    #__str__(self)\n",
    "    #This method should print the description of all the nodes in the graph.\n",
    "    #Tip: the built-in function print() is not the only function that calls the Node.__str__() method, but also the built-in function str(). \n",
    "    def __str__(self):\n",
    "        graph_str = \"%s\" % self.name\n",
    "        graph_str = \"\\n\".join([str(node) for node in self.nodes.values()])\n",
    "        graph_str = self.name + \"\\n\" + graph_str\n",
    "        return graph_str\n",
    "    \n",
    "    #__len__(self) – returns the number of nodes in the graph     \n",
    "    def __len__(self):\n",
    "        return len(self.nodes)\n",
    "    \n",
    "    # __contains__(self, key) – returns True in two cases: \n",
    "    #(1) If key is a string, then if a node called key is in self, and \n",
    "    #(2) If key is a Node, then if a node with the same name is in self. \n",
    "    #Tip: use the built-in function isinstance(). \n",
    "    def __contains__(self,key):\n",
    "            node_exists = False\n",
    "            if isinstance(key,Node):\n",
    "                node_exists = self.__is_node_in_graph_by_instance__(key)\n",
    "            else:\n",
    "                node_exists = self.__is_node_in_graph_by_name__(key)\n",
    "            return node_exists      \n",
    "        \n",
    "    def __is_node_in_graph_by_name__(self,name):\n",
    "        return name in self.nodes\n",
    "    \n",
    "    def __is_node_in_graph_by_instance__(self,node):\n",
    "        return self.__is_node_in_graph_by_name__(node.name)\n",
    "    \n",
    "    #__getitem__(self, name) – returns the Node object whose name is name. \n",
    "    #This method should raise KeyError if name is not in the graph. \n",
    "    def __getitem__(self,name):\n",
    "        return self.nodes[name]\n",
    "        \n",
    "    # update(self, node) – adds a new node to the graph\n",
    "    # node is a Node instance. \n",
    "    # If a node with the same name already exists in self, then this method should update the relevant information with the same logic as Node.update().\n",
    "    # If node has neighbors that are not already nodes in self, then this method should not create the relevant nodes.       \n",
    "    def update(self,node):\n",
    "        new_node = Node(node.name)\n",
    "        for neighbor in node.neighbors:\n",
    "            if neighbor in self.nodes:\n",
    "                new_node.update(neighbor,node.neighbors[neighbor])        \n",
    "        self.nodes[node.name] = new_node\n",
    "        \n",
    "        \n",
    "    #__add__(self, other) - returns a new Graph object that includes all the nodes and edges of self and other \n",
    "    #This method applies the same logic as update_node().\n",
    "    def __add__(self, other):\n",
    "        for node in other.nodes:\n",
    "            self.update(node)\n",
    "        return self\n",
    "    \n",
    "    ####add - str object...\n",
    "    \n",
    "    \n",
    "    #remove_node(self, name) – removes the node name from self.\n",
    "    #This method should not fail if name is not in self. \n",
    "    # This method should not remove edges, in which name is a neighbor of other nodes in the graph.            \n",
    "    def remove_node(self,name):\n",
    "        neighbors_list=[]\n",
    "        for node_name in self.nodes:\n",
    "            node = self[node_name]\n",
    "            for neighbor in node.neighbors:\n",
    "                 neighbors_list.append(neighbor)\n",
    "          \n",
    "        if name in self and name not in neighbors_list:\n",
    "            print()\n",
    "            del(self.nodes[name])\n",
    "    \n",
    "    \n",
    "    # is_edge(self, frm_name, to_name) – returns True if to_name is a neighbor of frm_name.\n",
    "    # This method should not fail if either frm_name is not in self.       \n",
    "    def is_edge(self,frm_name, to_name):\n",
    "        all_edges_list = []\n",
    "        for node in self.nodes:\n",
    "            for neighbor in node.neighbors:\n",
    "                all_edges_list.append([node.name, neighbor])\n",
    "        answer = False\n",
    "        for x in all_edges_list:\n",
    "            if x[0] == frm_name and x[1] ==to_name:\n",
    "                answer=True\n",
    "        return answer\n",
    "    \n",
    "    \n",
    "      ####add - str object...\n",
    "        \n",
    "        \n",
    "    #add_edge(self, frm_name, to_name, weight) – adds an edge making to_name a neighbor of frm_name. \n",
    "    #This method applies the same logic as Graph.update(). \n",
    "    #This method should not fail if either frm_name or to_name are not in self. \n",
    "    \n",
    "    def add_edge(self, frm_name, to_name, weight):\n",
    "        if frm_name or to_name in self.nodes:\n",
    "            self.nodes[frm_name].update(to_name,weight)\n",
    "            \n",
    "    \n",
    "   #remove_edge(self, frm_name, to_name) –\n",
    "   #removes to_name from being a neighbor of frm_name. \n",
    "   #This method should not fail if frm_name is not in self. \n",
    "   #This method should not fail if to_name is not a neighbor of frm_name. \n",
    "    \n",
    "    def remove_edge(self, frm_name, to_name):\n",
    "        if frm_name in self.nodes and to_name in frm_name.neighbors:\n",
    "            frm_name.remove_neighbor(to_name)\n",
    "    \n",
    "            \n",
    "    #get_edge_weight(self, frm_name, to_name) – returns the weight of the edge between frm_name and to_name. \n",
    "    #This method should not fail if either frm_name or to_name are not in self.\n",
    "    #This method should return None if to_name is not a neighbor of frm_name. \n",
    "    \n",
    "    def get_edge_weight(self, frm_name, to_name):\n",
    "        if frm_name in self.nodes and to_name in frm_name.neighbors:\n",
    "            weight = frm_name.__getitem__(to_name)\n",
    "        return weight\n",
    "        \n",
    "               \n",
    "     #get_path_weight(self, path) – returns the total weight of the given path, where path is an iterable of nodes’ names.\n",
    "    #This method should return None if the path is not feasible in self. \n",
    "    #This method should return None if path is an empty iterable. \n",
    "    #Tip: The built-in functions any() and all() regard nonzero numbers as True and None as False. \n",
    "    \n",
    "    def get_path_weight(self, path):\n",
    "        total_weight = 0\n",
    "        for item in path:\n",
    "            if item.is_neighbor(item+1):\n",
    "                total_weight = total_weight + self.get_edge_weight(item, item+1)\n",
    "        return total_weight\n",
    "    \n",
    "    #is_reachable(self, frm_name, to_name) – returns True if to_name is reachable from frm_name.\n",
    "    #This method should not fail if either frm_name or to_name are not in self.\n",
    "    \n",
    "    def is_reachable(self, frm_name, to_name):\n",
    "        reachable = no\n",
    "\n",
    "        #basic case b is reachable by a as it's a neighbor\n",
    "        for node in self.nodes:\n",
    "            if node.name == frm.name and to_name in node.neighbors:\n",
    "                rechable = yes\n",
    "        return True\n",
    "        \n",
    "        #set_a={frm_name}\n",
    "    #    for neighbor in self.nodes.frm_name.neighbors:\n",
    "     #       set_a.update(neighbor)\n",
    "      #  for item in set_a:\n",
    "       #     set_a.update()\n",
    "            \n",
    "    \n",
    "    \n",
    "    #find_shortest_path(self, frm_name, to_name) – returns the path from frm_name to to_name which has the minimum total weight.\n",
    "    #This method should return None if there is no path between frm_name and to_name.\n",
    "    #Note: path finding is usually implemented with recursion. We didn’t learn recursion in our course, so I recommend implementing a non-recursive algorithm like “breadth-first search” or “depth-first search”. \n",
    "                \n",
    "    def find_shortest_path(self, frm_name, to_name):\n",
    "    # first we will check if it's rechable, if not - we will return None\n",
    "        if self.is_reachable(frm_name, to_name) == False:\n",
    "            return None\n",
    "      \n",
    "    \n",
    "# Graph tests\n",
    "nodes_list_for_graph_tests = [node_1, node_2]   \n",
    "graph = Graph(\"Graph_A\", nodes_list_for_graph_tests)\n",
    "\n",
    "#contain tests\n",
    "assert (node_1 in graph),\"Contains does not work did not find existing node\"\n",
    "assert (node_1.name in graph),\"Contains does not work did not find existing node by name\"\n",
    "assert (not node_3 in graph),\"Contains does not work found non existing node\"\n",
    "assert (not node_3.name in graph),\"Contains does not work found non existing node by name\"\n",
    "\n",
    "#len tests\n",
    "nodes_list_for_graph_tests = []   \n",
    "graph = Graph(\"Graph_A\", nodes_list_for_graph_tests)\n",
    "\n",
    "assert (len(graph) == 0),\"Empty graph returns 0\"\n",
    "\n",
    "nodes_list_for_graph_tests = [node_1]   \n",
    "graph = Graph(\"Graph_A\", nodes_list_for_graph_tests)\n",
    "assert (len(graph) == 1),\"Graph with one node return 1\"\n",
    "\n",
    "#Update tests\n",
    "graph = Graph(\"Graph_A\", nodes_list_for_graph_tests)\n",
    "graph.update(node_3)\n",
    "print(graph)\n",
    "print(\"all tests pass!!!!!!!!!\")\n",
    "\n"
   ]
  },
  {
   "cell_type": "code",
   "execution_count": 164,
   "metadata": {},
   "outputs": [
    {
     "name": "stdout",
     "output_type": "stream",
     "text": [
      "Graph_a\n",
      "{'1': {'7': 15, '6': 5, '5': 20, '4': 20, '2': 10}}\n",
      "{'2': {'4': 10, '3': 5}}\n",
      "{'3': {'4': 5, '2': 15}}\n",
      "{'4': {'5': 10}}\n",
      "{'5': {'6': 5}}\n",
      "{'6': {}}\n",
      "{'7': {'6': 10}}\n",
      "{'8': {'7': 5, '1': 5, '2': 20}}\n",
      "{'9': {'8': 20, '2': 15, '10': 10}}\n",
      "{'10': {'2': 5, '3': 15, '5': 15}}\n"
     ]
    }
   ],
   "source": [
    "graph_a = Graph(\"Graph_a\", nodes_list)\n",
    "print(graph_a)"
   ]
  },
  {
   "cell_type": "code",
   "execution_count": 165,
   "metadata": {},
   "outputs": [],
   "source": [
    "node_11 = Node(\"11\")\n",
    "nodes_example = [node_11, node_2]"
   ]
  },
  {
   "cell_type": "code",
   "execution_count": 166,
   "metadata": {},
   "outputs": [
    {
     "name": "stdout",
     "output_type": "stream",
     "text": [
      "{'11': {}}\n"
     ]
    }
   ],
   "source": [
    "print(node_11)"
   ]
  },
  {
   "cell_type": "code",
   "execution_count": 167,
   "metadata": {},
   "outputs": [
    {
     "name": "stdout",
     "output_type": "stream",
     "text": [
      "Graph_b\n",
      "{'11': {}}\n",
      "{'2': {'4': 10, '3': 5}}\n"
     ]
    }
   ],
   "source": [
    "graph_b=Graph(\"Graph_b\",nodes_example)\n",
    "print(graph_b)"
   ]
  },
  {
   "cell_type": "code",
   "execution_count": 168,
   "metadata": {},
   "outputs": [
    {
     "ename": "AttributeError",
     "evalue": "'str' object has no attribute 'neighbors'",
     "output_type": "error",
     "traceback": [
      "\u001b[1;31m---------------------------------------------------------------------------\u001b[0m",
      "\u001b[1;31mAttributeError\u001b[0m                            Traceback (most recent call last)",
      "\u001b[1;32m<ipython-input-168-dc301ea1da8f>\u001b[0m in \u001b[0;36m<module>\u001b[1;34m()\u001b[0m\n\u001b[1;32m----> 1\u001b[1;33m \u001b[0mgraph_a\u001b[0m\u001b[1;33m.\u001b[0m\u001b[0mremove_edge\u001b[0m\u001b[1;33m(\u001b[0m\u001b[1;34m\"10\"\u001b[0m\u001b[1;33m,\u001b[0m\u001b[1;34m\"5\"\u001b[0m\u001b[1;33m)\u001b[0m\u001b[1;33m\u001b[0m\u001b[0m\n\u001b[0m",
      "\u001b[1;32m<ipython-input-163-4452502ceb5b>\u001b[0m in \u001b[0;36mremove_edge\u001b[1;34m(self, frm_name, to_name)\u001b[0m\n\u001b[0;32m    115\u001b[0m \u001b[1;33m\u001b[0m\u001b[0m\n\u001b[0;32m    116\u001b[0m     \u001b[1;32mdef\u001b[0m \u001b[0mremove_edge\u001b[0m\u001b[1;33m(\u001b[0m\u001b[0mself\u001b[0m\u001b[1;33m,\u001b[0m \u001b[0mfrm_name\u001b[0m\u001b[1;33m,\u001b[0m \u001b[0mto_name\u001b[0m\u001b[1;33m)\u001b[0m\u001b[1;33m:\u001b[0m\u001b[1;33m\u001b[0m\u001b[0m\n\u001b[1;32m--> 117\u001b[1;33m         \u001b[1;32mif\u001b[0m \u001b[0mfrm_name\u001b[0m \u001b[1;32min\u001b[0m \u001b[0mself\u001b[0m\u001b[1;33m.\u001b[0m\u001b[0mnodes\u001b[0m \u001b[1;32mand\u001b[0m \u001b[0mto_name\u001b[0m \u001b[1;32min\u001b[0m \u001b[0mfrm_name\u001b[0m\u001b[1;33m.\u001b[0m\u001b[0mneighbors\u001b[0m\u001b[1;33m:\u001b[0m\u001b[1;33m\u001b[0m\u001b[0m\n\u001b[0m\u001b[0;32m    118\u001b[0m             \u001b[0mfrm_name\u001b[0m\u001b[1;33m.\u001b[0m\u001b[0mremove_neighbor\u001b[0m\u001b[1;33m(\u001b[0m\u001b[0mto_name\u001b[0m\u001b[1;33m)\u001b[0m\u001b[1;33m\u001b[0m\u001b[0m\n\u001b[0;32m    119\u001b[0m \u001b[1;33m\u001b[0m\u001b[0m\n",
      "\u001b[1;31mAttributeError\u001b[0m: 'str' object has no attribute 'neighbors'"
     ]
    }
   ],
   "source": [
    "graph_a.remove_edge(\"10\",\"5\")"
   ]
  },
  {
   "cell_type": "code",
   "execution_count": 127,
   "metadata": {},
   "outputs": [
    {
     "ename": "AttributeError",
     "evalue": "'str' object has no attribute 'neighbors'",
     "output_type": "error",
     "traceback": [
      "\u001b[1;31m---------------------------------------------------------------------------\u001b[0m",
      "\u001b[1;31mAttributeError\u001b[0m                            Traceback (most recent call last)",
      "\u001b[1;32m<ipython-input-127-297a99dddec5>\u001b[0m in \u001b[0;36m<module>\u001b[1;34m()\u001b[0m\n\u001b[1;32m----> 1\u001b[1;33m \u001b[0mgraph_a\u001b[0m\u001b[1;33m.\u001b[0m\u001b[0mis_edge\u001b[0m\u001b[1;33m(\u001b[0m\u001b[1;34m\"10\"\u001b[0m\u001b[1;33m,\u001b[0m\u001b[1;34m\"2\"\u001b[0m\u001b[1;33m)\u001b[0m\u001b[1;33m\u001b[0m\u001b[0m\n\u001b[0m",
      "\u001b[1;32m<ipython-input-122-e413722838d0>\u001b[0m in \u001b[0;36mis_edge\u001b[1;34m(self, frm_name, to_name)\u001b[0m\n\u001b[0;32m     86\u001b[0m         \u001b[0mall_edges_list\u001b[0m \u001b[1;33m=\u001b[0m \u001b[1;33m[\u001b[0m\u001b[1;33m]\u001b[0m\u001b[1;33m\u001b[0m\u001b[0m\n\u001b[0;32m     87\u001b[0m         \u001b[1;32mfor\u001b[0m \u001b[0mnode\u001b[0m \u001b[1;32min\u001b[0m \u001b[0mself\u001b[0m\u001b[1;33m.\u001b[0m\u001b[0mnodes\u001b[0m\u001b[1;33m:\u001b[0m\u001b[1;33m\u001b[0m\u001b[0m\n\u001b[1;32m---> 88\u001b[1;33m             \u001b[1;32mfor\u001b[0m \u001b[0mneighbor\u001b[0m \u001b[1;32min\u001b[0m \u001b[0mnode\u001b[0m\u001b[1;33m.\u001b[0m\u001b[0mneighbors\u001b[0m\u001b[1;33m:\u001b[0m\u001b[1;33m\u001b[0m\u001b[0m\n\u001b[0m\u001b[0;32m     89\u001b[0m                 \u001b[0mall_edges_list\u001b[0m\u001b[1;33m.\u001b[0m\u001b[0mappend\u001b[0m\u001b[1;33m(\u001b[0m\u001b[1;33m[\u001b[0m\u001b[0mnode\u001b[0m\u001b[1;33m.\u001b[0m\u001b[0mname\u001b[0m\u001b[1;33m,\u001b[0m \u001b[0mneighbor\u001b[0m\u001b[1;33m]\u001b[0m\u001b[1;33m)\u001b[0m\u001b[1;33m\u001b[0m\u001b[0m\n\u001b[0;32m     90\u001b[0m         \u001b[0manswer\u001b[0m \u001b[1;33m=\u001b[0m \u001b[1;32mFalse\u001b[0m\u001b[1;33m\u001b[0m\u001b[0m\n",
      "\u001b[1;31mAttributeError\u001b[0m: 'str' object has no attribute 'neighbors'"
     ]
    }
   ],
   "source": [
    "graph_a.is_edge(\"10\",\"2\")"
   ]
  },
  {
   "cell_type": "code",
   "execution_count": 119,
   "metadata": {},
   "outputs": [
    {
     "name": "stdout",
     "output_type": "stream",
     "text": [
      "Graph_a\n",
      "{'1': {'7': 15, '6': 5, '5': 20, '4': 20, '2': 10}}\n",
      "{'2': {'4': 10, '3': 5}}\n",
      "{'3': {'4': 5, '2': 15}}\n",
      "{'4': {'5': 10}}\n",
      "{'5': {'6': 5}}\n",
      "{'6': {}}\n",
      "{'7': {'6': 10}}\n",
      "{'8': {'7': 5, '1': 5, '2': 20}}\n",
      "{'10': {'2': 5, '3': 15}}\n",
      "{'9': {'8': 20, '2': 15, '10': 10}}\n"
     ]
    }
   ],
   "source": [
    "print(graph_a)"
   ]
  },
  {
   "cell_type": "code",
   "execution_count": 100,
   "metadata": {},
   "outputs": [
    {
     "ename": "AttributeError",
     "evalue": "'str' object has no attribute 'name'",
     "output_type": "error",
     "traceback": [
      "\u001b[1;31m---------------------------------------------------------------------------\u001b[0m",
      "\u001b[1;31mAttributeError\u001b[0m                            Traceback (most recent call last)",
      "\u001b[1;32m<ipython-input-100-eda6d3fe9b3d>\u001b[0m in \u001b[0;36m<module>\u001b[1;34m()\u001b[0m\n\u001b[0;32m      1\u001b[0m \u001b[0mgraph_b\u001b[0m\u001b[1;33m=\u001b[0m\u001b[0mGraph\u001b[0m\u001b[1;33m(\u001b[0m\u001b[1;34m\"Graph_b\"\u001b[0m\u001b[1;33m,\u001b[0m\u001b[0mnodes_example\u001b[0m\u001b[1;33m)\u001b[0m\u001b[1;33m\u001b[0m\u001b[0m\n\u001b[0;32m      2\u001b[0m \u001b[1;33m\u001b[0m\u001b[0m\n\u001b[1;32m----> 3\u001b[1;33m \u001b[0mgraph_a\u001b[0m\u001b[1;33m.\u001b[0m\u001b[0m__add__\u001b[0m\u001b[1;33m(\u001b[0m\u001b[0mgraph_b\u001b[0m\u001b[1;33m)\u001b[0m\u001b[1;33m\u001b[0m\u001b[0m\n\u001b[0m",
      "\u001b[1;32m<ipython-input-96-cfbafe7345e3>\u001b[0m in \u001b[0;36m__add__\u001b[1;34m(self, other)\u001b[0m\n\u001b[0;32m     62\u001b[0m     \u001b[1;32mdef\u001b[0m \u001b[0m__add__\u001b[0m\u001b[1;33m(\u001b[0m\u001b[0mself\u001b[0m\u001b[1;33m,\u001b[0m \u001b[0mother\u001b[0m\u001b[1;33m)\u001b[0m\u001b[1;33m:\u001b[0m\u001b[1;33m\u001b[0m\u001b[0m\n\u001b[0;32m     63\u001b[0m         \u001b[1;32mfor\u001b[0m \u001b[0mnode\u001b[0m \u001b[1;32min\u001b[0m \u001b[0mother\u001b[0m\u001b[1;33m.\u001b[0m\u001b[0mnodes\u001b[0m\u001b[1;33m:\u001b[0m\u001b[1;33m\u001b[0m\u001b[0m\n\u001b[1;32m---> 64\u001b[1;33m             \u001b[0mself\u001b[0m\u001b[1;33m.\u001b[0m\u001b[0mupdate\u001b[0m\u001b[1;33m(\u001b[0m\u001b[0mnode\u001b[0m\u001b[1;33m)\u001b[0m\u001b[1;33m\u001b[0m\u001b[0m\n\u001b[0m\u001b[0;32m     65\u001b[0m         \u001b[1;32mreturn\u001b[0m \u001b[0mself\u001b[0m\u001b[1;33m\u001b[0m\u001b[0m\n\u001b[0;32m     66\u001b[0m \u001b[1;33m\u001b[0m\u001b[0m\n",
      "\u001b[1;32m<ipython-input-96-cfbafe7345e3>\u001b[0m in \u001b[0;36mupdate\u001b[1;34m(self, node)\u001b[0m\n\u001b[0;32m     51\u001b[0m     \u001b[1;31m# If node has neighbors that are not already nodes in self, then this method should not create the relevant nodes.\u001b[0m\u001b[1;33m\u001b[0m\u001b[1;33m\u001b[0m\u001b[0m\n\u001b[0;32m     52\u001b[0m     \u001b[1;32mdef\u001b[0m \u001b[0mupdate\u001b[0m\u001b[1;33m(\u001b[0m\u001b[0mself\u001b[0m\u001b[1;33m,\u001b[0m\u001b[0mnode\u001b[0m\u001b[1;33m)\u001b[0m\u001b[1;33m:\u001b[0m\u001b[1;33m\u001b[0m\u001b[0m\n\u001b[1;32m---> 53\u001b[1;33m         \u001b[0mnew_node\u001b[0m \u001b[1;33m=\u001b[0m \u001b[0mNode\u001b[0m\u001b[1;33m(\u001b[0m\u001b[0mnode\u001b[0m\u001b[1;33m.\u001b[0m\u001b[0mname\u001b[0m\u001b[1;33m)\u001b[0m\u001b[1;33m\u001b[0m\u001b[0m\n\u001b[0m\u001b[0;32m     54\u001b[0m         \u001b[1;32mfor\u001b[0m \u001b[0mneighbor\u001b[0m \u001b[1;32min\u001b[0m \u001b[0mnode\u001b[0m\u001b[1;33m.\u001b[0m\u001b[0mneighbors\u001b[0m\u001b[1;33m:\u001b[0m\u001b[1;33m\u001b[0m\u001b[0m\n\u001b[0;32m     55\u001b[0m             \u001b[1;32mif\u001b[0m \u001b[0mneighbor\u001b[0m \u001b[1;32min\u001b[0m \u001b[0mself\u001b[0m\u001b[1;33m.\u001b[0m\u001b[0mnodes\u001b[0m\u001b[1;33m:\u001b[0m\u001b[1;33m\u001b[0m\u001b[0m\n",
      "\u001b[1;31mAttributeError\u001b[0m: 'str' object has no attribute 'name'"
     ]
    }
   ],
   "source": [
    "\n",
    "\n",
    "graph_a.__add__(graph_b)"
   ]
  },
  {
   "cell_type": "code",
   "execution_count": 67,
   "metadata": {},
   "outputs": [
    {
     "name": "stdout",
     "output_type": "stream",
     "text": [
      "Graph_b\n",
      "{'11': {}}\n",
      "{'2': {'4': 10, '3': 5}}\n"
     ]
    }
   ],
   "source": [
    "print(graph_b)"
   ]
  },
  {
   "cell_type": "code",
   "execution_count": null,
   "metadata": {},
   "outputs": [],
   "source": [
    "#Task 2 – Exemplary usage \n",
    "#Question 1  - Create 3 Graph objects, each contains a different collection of nodes, which together contain all 10 nodes. \n",
    "#Use the __add()__ method to create a total graph that contains the entire data of the example. \n",
    "\n",
    "nodes_list_1 =[node_1,node_2,node_3]\n",
    "nodes_list_2 = [node_4,node_5,node_6]\n",
    "nodes_list_3 = [node_7,node_8,node_9,node_10]\n",
    "\n",
    "graph_1 = Graph(\"Graph_1\", nodes_list_1)\n",
    "graph_2 = Graph(\"Graph_2\", nodes_list_2)\n",
    "graph_3 = Graph(\"Graph_3\", nodes_list_3)\n",
    "\n",
    "#graph_final = graph_1.__add__(graph_2).__add__(graph_3)"
   ]
  }
 ],
 "metadata": {
  "kernelspec": {
   "display_name": "Python 3",
   "language": "python",
   "name": "python3"
  },
  "language_info": {
   "codemirror_mode": {
    "name": "ipython",
    "version": 3
   },
   "file_extension": ".py",
   "mimetype": "text/x-python",
   "name": "python",
   "nbconvert_exporter": "python",
   "pygments_lexer": "ipython3",
   "version": "3.6.4"
  }
 },
 "nbformat": 4,
 "nbformat_minor": 2
}
